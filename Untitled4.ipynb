{
  "nbformat": 4,
  "nbformat_minor": 0,
  "metadata": {
    "colab": {
      "provenance": []
    },
    "kernelspec": {
      "name": "python3",
      "display_name": "Python 3"
    },
    "language_info": {
      "name": "python"
    }
  },
  "cells": [
    {
      "cell_type": "code",
      "execution_count": null,
      "metadata": {
        "id": "7_iAyid9Zmkx",
        "colab": {
          "base_uri": "https://localhost:8080/"
        },
        "outputId": "aa51445b-3fd0-4cb4-dfc8-74aa1b994071"
      },
      "outputs": [
        {
          "output_type": "stream",
          "name": "stdout",
          "text": [
            "Masukkan bilangan: 6\n",
            "Bilangan ganjil: \n",
            "1 -> 1\n",
            "3 -> 9\n",
            "5 -> 25\n"
          ]
        }
      ],
      "source": [
        "def ganjil_genap(bilangan):\n",
        "  if bilangan % 2 == 0:\n",
        "    return \"Genap\"\n",
        "  else:\n",
        "    return \"Ganjil\"\n",
        "\n",
        "def kuadrat(bilangan):\n",
        "   return bilangan*bilangan\n",
        "# Program utama\n",
        "bilangan = int(input(\"Masukkan bilangan: \"))\n",
        "\n",
        "bilangan_ganjil = []# Daftar untuk menyimpan bilangan ganjil\n",
        "\n",
        "for i in range(bilangan):\n",
        "  bilangan = i + 1\n",
        "  hasil_ganjil_genap = ganjil_genap(bilangan)\n",
        "\n",
        "  if hasil_ganjil_genap == \"Ganjil\":\n",
        "    bilangan_ganjil.append(bilangan) # Menambahkan bilangan ganjil ke daftar\n",
        "\n",
        "# Mencetak bilangan ganjil dan kuadratnya\n",
        "print(\"Bilangan ganjil: \")\n",
        "for bilangan in bilangan_ganjil:\n",
        "  print(f\"{bilangan} -> {kuadrat(bilangan)}\")\n",
        "\n"
      ]
    }
  ]
}